{
  "nbformat": 4,
  "nbformat_minor": 0,
  "metadata": {
    "colab": {
      "name": "ResNet50_50epocs_unfreezed.ipynb",
      "provenance": [],
      "collapsed_sections": [],
      "mount_file_id": "1n1lyC-OhlIxer0Edn64gDbK6c1U8Uicq",
      "authorship_tag": "ABX9TyOFh1CIbY5lKTWEH/pGjACJ",
      "include_colab_link": true
    },
    "kernelspec": {
      "name": "python3",
      "display_name": "Python 3"
    },
    "language_info": {
      "name": "python"
    },
    "accelerator": "GPU"
  },
  "cells": [
    {
      "cell_type": "markdown",
      "metadata": {
        "id": "view-in-github",
        "colab_type": "text"
      },
      "source": [
        "<a href=\"https://colab.research.google.com/github/Cool-buddies-of-ENEL645/OurAwesomeFinalProject/blob/main/ResNet50_50epocs_unfreezed.ipynb\" target=\"_parent\"><img src=\"https://colab.research.google.com/assets/colab-badge.svg\" alt=\"Open In Colab\"/></a>"
      ]
    },
    {
      "cell_type": "code",
      "execution_count": 3,
      "metadata": {
        "id": "HTDy5JmADtKY"
      },
      "outputs": [],
      "source": [
        "import numpy as np\n",
        "import glob\n",
        "import tensorflow as tf\n",
        "from tensorflow import keras\n",
        "from tensorflow.keras.preprocessing.image import ImageDataGenerator\n",
        "from tensorflow.keras.applications import ResNet50\n",
        "import matplotlib.pylab as plt\n",
        "import pickle"
      ]
    },
    {
      "cell_type": "code",
      "source": [
        "# Data generator parameters\n",
        "gen_params = {\"featurewise_center\":False,\\\n",
        "              \"samplewise_center\":False,\\\n",
        "              \"featurewise_std_normalization\":False,\\\n",
        "              \"samplewise_std_normalization\":False,\\\n",
        "              \"zca_whitening\":False,\\\n",
        "              \"rotation_range\":20,\\\n",
        "              \"width_shift_range\":0.1,\\\n",
        "              \"height_shift_range\":0.1, \\\n",
        "              \"shear_range\":0.2, \\\n",
        "              \"zoom_range\":0.1,\\\n",
        "              \"horizontal_flip\":True,\\\n",
        "              \"vertical_flip\":True}\n",
        "\n",
        "# Train and validation generators\n",
        "train_gen = ImageDataGenerator(**gen_params, preprocessing_function = tf.keras.applications.resnet50.preprocess_input)\n",
        "val_gen = ImageDataGenerator(**gen_params, preprocessing_function = tf.keras.applications.resnet50.preprocess_input)\n",
        "\n",
        "class_names = [\"Black\", \"Blue\",  \"Green\", \"Take-to-recycle\"]\n",
        "\n",
        "bs = 64 # batch size\n",
        "\n",
        "train_generator = train_gen.flow_from_directory(\n",
        "    directory = \"/content/drive/MyDrive/Data/GarbageClassification/Garbage-dataset-pre-processed/Train\",\n",
        "    target_size=(256, 256),\n",
        "    color_mode=\"rgb\",\n",
        "    classes= class_names,\n",
        "    class_mode=\"categorical\",\n",
        "    batch_size=bs,\n",
        "    shuffle=True,\n",
        "    seed=42,\n",
        "    interpolation=\"nearest\",\n",
        ")\n",
        "\n",
        "validation_generator = val_gen.flow_from_directory(\n",
        "    directory = \"/content/drive/MyDrive/Data/GarbageClassification/Garbage-dataset-pre-processed/Validation\",\n",
        "    target_size=(256, 256),\n",
        "    color_mode=\"rgb\",\n",
        "    classes= class_names,\n",
        "    class_mode=\"categorical\",\n",
        "    batch_size=bs,\n",
        "    shuffle=True,\n",
        "    seed=42,\n",
        "    interpolation=\"nearest\",)"
      ],
      "metadata": {
        "colab": {
          "base_uri": "https://localhost:8080/"
        },
        "id": "72Q7rRHrD6n4",
        "outputId": "2e1bb923-97cb-4dfd-b77e-f5577f138bce"
      },
      "execution_count": 4,
      "outputs": [
        {
          "output_type": "stream",
          "name": "stdout",
          "text": [
            "Found 5139 images belonging to 4 classes.\n",
            "Found 1123 images belonging to 4 classes.\n"
          ]
        }
      ]
    },
    {
      "cell_type": "code",
      "source": [
        "model_name_it = \"garbage_classifier_resnet_it.h5\"\n",
        "model_name_ft = \"garbage_classifier_resnet_ft.h5\"\n",
        "\n",
        "early_stop = tf.keras.callbacks.EarlyStopping(monitor='val_loss', patience = 10)\n",
        "\n",
        "\n",
        "monitor_it = tf.keras.callbacks.ModelCheckpoint(model_name_it, monitor='val_loss',\\\n",
        "                                             verbose=0,save_best_only=True,\\\n",
        "                                             save_weights_only=False,\\\n",
        "                                             mode='min')\n",
        "\n",
        "monitor_ft = tf.keras.callbacks.ModelCheckpoint(model_name_ft, monitor='val_loss',\\\n",
        "                                             verbose=0,save_best_only=True,\\\n",
        "                                             save_weights_only=False,\\\n",
        "                                             mode='min')\n",
        "\n",
        "def scheduler(epoch, lr):\n",
        "    if epoch%10 == 0 and epoch!= 0:\n",
        "        lr = lr/2\n",
        "    return lr\n",
        "\n",
        "lr_schedule = tf.keras.callbacks.LearningRateScheduler(scheduler,verbose = 0)"
      ],
      "metadata": {
        "id": "tpKrXPkgEkGT"
      },
      "execution_count": 5,
      "outputs": []
    },
    {
      "cell_type": "code",
      "source": [
        "img_height = 256\n",
        "img_width = 256\n",
        "\n",
        "# Defining the model\n",
        "base_model = tf.keras.applications.ResNet50(\n",
        "    weights='imagenet',  # Load weights pre-trained on ImageNet.\n",
        "    input_shape=(img_height, img_width, 3),\n",
        "    include_top=False) \n",
        "# base_model.trainable = False\n",
        "base_model.trainable = True\n",
        "\n",
        "x1 = base_model(base_model.input, training = True)\n",
        "x2 = tf.keras.layers.Flatten()(x1)\n",
        "\n",
        "\n",
        "out = tf.keras.layers.Dense(len(class_names),activation = 'softmax')(x2)\n",
        "model = tf.keras.Model(inputs = base_model.input, outputs =out)\n",
        "\n",
        "print(\"Initial Training Model\")\n",
        "print(model.summary())\n",
        "print([layer.name for layer in model.get_layer('resnet50').layers])"
      ],
      "metadata": {
        "colab": {
          "base_uri": "https://localhost:8080/"
        },
        "id": "1e_3PP-cFBq0",
        "outputId": "3298c96e-1225-47b9-96d2-8fbc440f4690"
      },
      "execution_count": 6,
      "outputs": [
        {
          "output_type": "stream",
          "name": "stdout",
          "text": [
            "Downloading data from https://storage.googleapis.com/tensorflow/keras-applications/resnet/resnet50_weights_tf_dim_ordering_tf_kernels_notop.h5\n",
            "94773248/94765736 [==============================] - 1s 0us/step\n",
            "94781440/94765736 [==============================] - 1s 0us/step\n",
            "Initial Training Model\n",
            "Model: \"model\"\n",
            "_________________________________________________________________\n",
            " Layer (type)                Output Shape              Param #   \n",
            "=================================================================\n",
            " input_1 (InputLayer)        [(None, 256, 256, 3)]     0         \n",
            "                                                                 \n",
            " resnet50 (Functional)       (None, 8, 8, 2048)        23587712  \n",
            "                                                                 \n",
            " flatten (Flatten)           (None, 131072)            0         \n",
            "                                                                 \n",
            " dense (Dense)               (None, 4)                 524292    \n",
            "                                                                 \n",
            "=================================================================\n",
            "Total params: 24,112,004\n",
            "Trainable params: 24,058,884\n",
            "Non-trainable params: 53,120\n",
            "_________________________________________________________________\n",
            "None\n",
            "['input_1', 'conv1_pad', 'conv1_conv', 'conv1_bn', 'conv1_relu', 'pool1_pad', 'pool1_pool', 'conv2_block1_1_conv', 'conv2_block1_1_bn', 'conv2_block1_1_relu', 'conv2_block1_2_conv', 'conv2_block1_2_bn', 'conv2_block1_2_relu', 'conv2_block1_0_conv', 'conv2_block1_3_conv', 'conv2_block1_0_bn', 'conv2_block1_3_bn', 'conv2_block1_add', 'conv2_block1_out', 'conv2_block2_1_conv', 'conv2_block2_1_bn', 'conv2_block2_1_relu', 'conv2_block2_2_conv', 'conv2_block2_2_bn', 'conv2_block2_2_relu', 'conv2_block2_3_conv', 'conv2_block2_3_bn', 'conv2_block2_add', 'conv2_block2_out', 'conv2_block3_1_conv', 'conv2_block3_1_bn', 'conv2_block3_1_relu', 'conv2_block3_2_conv', 'conv2_block3_2_bn', 'conv2_block3_2_relu', 'conv2_block3_3_conv', 'conv2_block3_3_bn', 'conv2_block3_add', 'conv2_block3_out', 'conv3_block1_1_conv', 'conv3_block1_1_bn', 'conv3_block1_1_relu', 'conv3_block1_2_conv', 'conv3_block1_2_bn', 'conv3_block1_2_relu', 'conv3_block1_0_conv', 'conv3_block1_3_conv', 'conv3_block1_0_bn', 'conv3_block1_3_bn', 'conv3_block1_add', 'conv3_block1_out', 'conv3_block2_1_conv', 'conv3_block2_1_bn', 'conv3_block2_1_relu', 'conv3_block2_2_conv', 'conv3_block2_2_bn', 'conv3_block2_2_relu', 'conv3_block2_3_conv', 'conv3_block2_3_bn', 'conv3_block2_add', 'conv3_block2_out', 'conv3_block3_1_conv', 'conv3_block3_1_bn', 'conv3_block3_1_relu', 'conv3_block3_2_conv', 'conv3_block3_2_bn', 'conv3_block3_2_relu', 'conv3_block3_3_conv', 'conv3_block3_3_bn', 'conv3_block3_add', 'conv3_block3_out', 'conv3_block4_1_conv', 'conv3_block4_1_bn', 'conv3_block4_1_relu', 'conv3_block4_2_conv', 'conv3_block4_2_bn', 'conv3_block4_2_relu', 'conv3_block4_3_conv', 'conv3_block4_3_bn', 'conv3_block4_add', 'conv3_block4_out', 'conv4_block1_1_conv', 'conv4_block1_1_bn', 'conv4_block1_1_relu', 'conv4_block1_2_conv', 'conv4_block1_2_bn', 'conv4_block1_2_relu', 'conv4_block1_0_conv', 'conv4_block1_3_conv', 'conv4_block1_0_bn', 'conv4_block1_3_bn', 'conv4_block1_add', 'conv4_block1_out', 'conv4_block2_1_conv', 'conv4_block2_1_bn', 'conv4_block2_1_relu', 'conv4_block2_2_conv', 'conv4_block2_2_bn', 'conv4_block2_2_relu', 'conv4_block2_3_conv', 'conv4_block2_3_bn', 'conv4_block2_add', 'conv4_block2_out', 'conv4_block3_1_conv', 'conv4_block3_1_bn', 'conv4_block3_1_relu', 'conv4_block3_2_conv', 'conv4_block3_2_bn', 'conv4_block3_2_relu', 'conv4_block3_3_conv', 'conv4_block3_3_bn', 'conv4_block3_add', 'conv4_block3_out', 'conv4_block4_1_conv', 'conv4_block4_1_bn', 'conv4_block4_1_relu', 'conv4_block4_2_conv', 'conv4_block4_2_bn', 'conv4_block4_2_relu', 'conv4_block4_3_conv', 'conv4_block4_3_bn', 'conv4_block4_add', 'conv4_block4_out', 'conv4_block5_1_conv', 'conv4_block5_1_bn', 'conv4_block5_1_relu', 'conv4_block5_2_conv', 'conv4_block5_2_bn', 'conv4_block5_2_relu', 'conv4_block5_3_conv', 'conv4_block5_3_bn', 'conv4_block5_add', 'conv4_block5_out', 'conv4_block6_1_conv', 'conv4_block6_1_bn', 'conv4_block6_1_relu', 'conv4_block6_2_conv', 'conv4_block6_2_bn', 'conv4_block6_2_relu', 'conv4_block6_3_conv', 'conv4_block6_3_bn', 'conv4_block6_add', 'conv4_block6_out', 'conv5_block1_1_conv', 'conv5_block1_1_bn', 'conv5_block1_1_relu', 'conv5_block1_2_conv', 'conv5_block1_2_bn', 'conv5_block1_2_relu', 'conv5_block1_0_conv', 'conv5_block1_3_conv', 'conv5_block1_0_bn', 'conv5_block1_3_bn', 'conv5_block1_add', 'conv5_block1_out', 'conv5_block2_1_conv', 'conv5_block2_1_bn', 'conv5_block2_1_relu', 'conv5_block2_2_conv', 'conv5_block2_2_bn', 'conv5_block2_2_relu', 'conv5_block2_3_conv', 'conv5_block2_3_bn', 'conv5_block2_add', 'conv5_block2_out', 'conv5_block3_1_conv', 'conv5_block3_1_bn', 'conv5_block3_1_relu', 'conv5_block3_2_conv', 'conv5_block3_2_bn', 'conv5_block3_2_relu', 'conv5_block3_3_conv', 'conv5_block3_3_bn', 'conv5_block3_add', 'conv5_block3_out']\n"
          ]
        }
      ]
    },
    {
      "cell_type": "code",
      "source": [
        "model.compile(optimizer=tf.keras.optimizers.Adam(learning_rate = 1e-4),\n",
        "              loss='categorical_crossentropy',\n",
        "              metrics=['accuracy'])\n",
        "\n",
        "history_it = model.fit(train_generator, epochs=50, verbose = 1, \\\n",
        "                       callbacks= [early_stop, monitor_it, lr_schedule], \\\n",
        "                       validation_data = (validation_generator))"
      ],
      "metadata": {
        "colab": {
          "base_uri": "https://localhost:8080/"
        },
        "id": "0P-6xFHrGnlJ",
        "outputId": "37680a4a-22b4-4e9c-862e-bb96589826b6"
      },
      "execution_count": 8,
      "outputs": [
        {
          "output_type": "stream",
          "name": "stdout",
          "text": [
            "Epoch 1/50\n",
            "81/81 [==============================] - 1431s 18s/step - loss: 0.8559 - accuracy: 0.7743 - val_loss: 0.9503 - val_accuracy: 0.7640 - lr: 1.0000e-04\n",
            "Epoch 2/50\n",
            "81/81 [==============================] - 113s 1s/step - loss: 0.3531 - accuracy: 0.8778 - val_loss: 0.6732 - val_accuracy: 0.8210 - lr: 1.0000e-04\n",
            "Epoch 3/50\n",
            "81/81 [==============================] - 112s 1s/step - loss: 0.2944 - accuracy: 0.8943 - val_loss: 0.7552 - val_accuracy: 0.8094 - lr: 1.0000e-04\n",
            "Epoch 4/50\n",
            "81/81 [==============================] - 112s 1s/step - loss: 0.1987 - accuracy: 0.9263 - val_loss: 0.6996 - val_accuracy: 0.8139 - lr: 1.0000e-04\n",
            "Epoch 5/50\n",
            "81/81 [==============================] - 112s 1s/step - loss: 0.1428 - accuracy: 0.9457 - val_loss: 0.7546 - val_accuracy: 0.8424 - lr: 1.0000e-04\n",
            "Epoch 6/50\n",
            "81/81 [==============================] - 112s 1s/step - loss: 0.1152 - accuracy: 0.9586 - val_loss: 0.8351 - val_accuracy: 0.8255 - lr: 1.0000e-04\n",
            "Epoch 7/50\n",
            "81/81 [==============================] - 112s 1s/step - loss: 0.1308 - accuracy: 0.9564 - val_loss: 0.7273 - val_accuracy: 0.8451 - lr: 1.0000e-04\n",
            "Epoch 8/50\n",
            "81/81 [==============================] - 113s 1s/step - loss: 0.1391 - accuracy: 0.9554 - val_loss: 0.8600 - val_accuracy: 0.8424 - lr: 1.0000e-04\n",
            "Epoch 9/50\n",
            "81/81 [==============================] - 112s 1s/step - loss: 0.0956 - accuracy: 0.9687 - val_loss: 0.7885 - val_accuracy: 0.8406 - lr: 1.0000e-04\n",
            "Epoch 10/50\n",
            "81/81 [==============================] - 113s 1s/step - loss: 0.0927 - accuracy: 0.9722 - val_loss: 0.7661 - val_accuracy: 0.8459 - lr: 1.0000e-04\n",
            "Epoch 11/50\n",
            "81/81 [==============================] - 113s 1s/step - loss: 0.0591 - accuracy: 0.9770 - val_loss: 0.8653 - val_accuracy: 0.8549 - lr: 5.0000e-05\n",
            "Epoch 12/50\n",
            "81/81 [==============================] - 113s 1s/step - loss: 0.0356 - accuracy: 0.9870 - val_loss: 0.7864 - val_accuracy: 0.8611 - lr: 5.0000e-05\n"
          ]
        }
      ]
    },
    {
      "cell_type": "code",
      "source": [
        "it_file = open(\"it_history.pkl\", \"wb\")\n",
        "pickle.dump(history_it.history, it_file)\n",
        "it_file.close()\n",
        "\n",
        "plt.figure()\n",
        "plt.plot(history_it.history[\"val_loss\"], label = \"Val loss\")\n",
        "plt.plot(history_it.history[\"loss\"], label = \"Train loss\")\n",
        "plt.legend()\n",
        "plt.show()\n",
        "plt.figure()\n",
        "plt.plot(history_it.history[\"val_accuracy\"], label = \"Val accuracy\")\n",
        "plt.plot(history_it.history[\"accuracy\"], label = \"Accuracy\")\n",
        "plt.legend()\n",
        "plt.show()"
      ],
      "metadata": {
        "colab": {
          "base_uri": "https://localhost:8080/",
          "height": 513
        },
        "id": "2BrSnkKSG0V-",
        "outputId": "e0742f8f-1bd0-4f21-e3c8-ca52367402e1"
      },
      "execution_count": 9,
      "outputs": [
        {
          "output_type": "display_data",
          "data": {
            "text/plain": [
              "<Figure size 432x288 with 1 Axes>"
            ],
            "image/png": "[encoded data removed]"
          },
          "metadata": {
            "needs_background": "light"
          }
        },
        {
          "output_type": "display_data",
          "data": {
            "text/plain": [
              "<Figure size 432x288 with 1 Axes>"
            ],
            "image/png": "[encoded data removed]"
          },
          "metadata": {
            "needs_background": "light"
          }
        }
      ]
    },
    {
      "cell_type": "code",
      "source": [
        "test_gen = ImageDataGenerator(preprocessing_function = tf.keras.applications.resnet50.preprocess_input)\n",
        "\n",
        "test_generator = train_gen.flow_from_directory(\n",
        "    directory = \"/content/drive/MyDrive/Data/GarbageClassification/Garbage-dataset-pre-processed/Test\",\n",
        "    target_size=(256, 256),\n",
        "    color_mode=\"rgb\",\n",
        "    classes= class_names,\n",
        "    class_mode=\"categorical\",\n",
        "    batch_size=bs,\n",
        "    shuffle=True,\n",
        "    seed=42,\n",
        "    interpolation=\"nearest\",\n",
        ")"
      ],
      "metadata": {
        "colab": {
          "base_uri": "https://localhost:8080/"
        },
        "id": "6DNHZAfuWIlC",
        "outputId": "5ee10718-68d9-48bb-c053-0169ea96eec9"
      },
      "execution_count": 10,
      "outputs": [
        {
          "output_type": "stream",
          "name": "stdout",
          "text": [
            "Found 807 images belonging to 4 classes.\n"
          ]
        }
      ]
    },
    {
      "cell_type": "code",
      "source": [
        "# Testing the model in the initial training\n",
        "model = tf.keras.models.load_model(model_name_it)\n",
        "model.evaluate(test_generator)\n",
        "\n",
        "# # Testing the model in the fine tuning\n",
        "# model = tf.keras.models.load_model(model_name_ft)\n",
        "# model.evaluate(test_generator)"
      ],
      "metadata": {
        "colab": {
          "base_uri": "https://localhost:8080/"
        },
        "id": "M4xff3_WWS-9",
        "outputId": "43c6fb63-fa70-46e1-958f-08e389d073ee"
      },
      "execution_count": 11,
      "outputs": [
        {
          "output_type": "stream",
          "name": "stdout",
          "text": [
            "13/13 [==============================] - 158s 13s/step - loss: 0.9520 - accuracy: 0.7596\n"
          ]
        },
        {
          "output_type": "execute_result",
          "data": {
            "text/plain": [
              "[0.9520214796066284, 0.7596034407615662]"
            ]
          },
          "metadata": {},
          "execution_count": 11
        }
      ]
    },
    {
      "cell_type": "code",
      "source": [
        "Xtest,Ytest = test_generator.__getitem__(0)\n",
        "Ytest = Ytest.argmax(axis = 1) # get the label\n",
        "Ypred = model.predict(Xtest).argmax(axis = 1)\n",
        "wrong_indexes = np.where(Ypred != Ytest)[0]\n",
        "# model.layers[-1].activation = None\n",
        "# Disaplying some samples from the development set\n",
        "sample_indexes = np.random.choice(np.arange(wrong_indexes.shape[0], dtype = int),size = 8, replace = False)\n",
        "plt.figure(figsize = (24,18))\n",
        "for (ii,jj) in enumerate(sample_indexes):\n",
        "    plt.subplot(4,2,ii+1)\n",
        "    aux = Xtest[wrong_indexes[jj]]\n",
        "    aux = (aux - aux.min())/(aux.max() - aux.min())\n",
        "    # heatmap = make_gradcam_heatmap(aux, model, last_conv_layer_name)\n",
        "    # save_and_display_gradcam(aux, heatmap)\n",
        "    # aux = (aux - aux.min())/(aux.max() - aux.min())\n",
        "    plt.imshow(aux, cmap = \"gray\")\n",
        "    plt.title(\"Label: %s, predicted: %s\" %(class_names[Ytest[wrong_indexes[jj]]],class_names[Ypred[wrong_indexes[jj]]]))\n",
        "\n",
        "plt.show()\n"
      ],
      "metadata": {
        "id": "Eg_2WcDZWWno"
      },
      "execution_count": null,
      "outputs": []
    },
    {
      "cell_type": "code",
      "source": [
        "from sklearn.metrics import confusion_matrix, classification_report\n",
        "import seaborn as sns\n",
        "import itertools"
      ],
      "metadata": {
        "id": "pJ6q29iwXZsB"
      },
      "execution_count": null,
      "outputs": []
    },
    {
      "cell_type": "code",
      "source": [
        "def plot_confusion_matrix(cm, classes,\n",
        "                      normalize=False,\n",
        "                      title='Confusion matrix',\n",
        "                      cmap=plt.cm.Blues):\n",
        "  \n",
        "    if normalize:\n",
        "        cm = cm.astype('float') / cm.sum(axis=1)[:, np.newaxis]\n",
        "        print(\"Normalized confusion matrix\")\n",
        "    else:\n",
        "        print('Confusion matrix, without normalization')\n",
        "\n",
        "    plt.imshow(cm, interpolation='nearest', cmap=cmap)\n",
        "    plt.title(title)\n",
        "    plt.colorbar()\n",
        "    tick_marks = np.arange(len(classes))\n",
        "    plt.xticks(tick_marks, classes, rotation=45)\n",
        "    plt.yticks(tick_marks, classes)\n",
        "\n",
        "    fmt = '.2f' if normalize else 'd'\n",
        "    thresh = cm.max() / 2.\n",
        "    for i, j in itertools.product(range(cm.shape[0]), range(cm.shape[1])):\n",
        "        plt.text(j, i, format(cm[i, j], fmt),\n",
        "                 horizontalalignment=\"center\",\n",
        "                 color=\"white\" if cm[i, j] > thresh else \"black\")\n",
        "\n",
        "    plt.tight_layout()\n",
        "    plt.ylabel('True label')\n",
        "    plt.xlabel('Predicted label')\n",
        "    return\n",
        "\n",
        "\n",
        "def plot_confusion_matrix_with_default_options(y_pred, y_true, classes):\n",
        "    '''Plot a confusion matrix heatmap with a default size and default options.'''\n",
        "    cm = confusion_matrix(y_true, y_pred)\n",
        "    with sns.axes_style('ticks'):\n",
        "        plt.figure(figsize=(12, 12))\n",
        "        plot_confusion_matrix(cm, classes)\n",
        "        plt.show()\n",
        "    return"
      ],
      "metadata": {
        "id": "yTTHqOLE5MSC"
      },
      "execution_count": null,
      "outputs": []
    },
    {
      "cell_type": "code",
      "source": [
        "report = classification_report(Ytest, Ypred, target_names=class_names)\n",
        "print(report)"
      ],
      "metadata": {
        "colab": {
          "base_uri": "https://localhost:8080/"
        },
        "id": "3O-eRHwO5ZgT",
        "outputId": "bcfb05d6-3f17-4d85-c0da-c77c083db051"
      },
      "execution_count": 17,
      "outputs": [
        {
          "output_type": "stream",
          "name": "stdout",
          "text": [
            "                 precision    recall  f1-score   support\n",
            "\n",
            "          Black       0.67      0.42      0.52        19\n",
            "           Blue       0.50      0.83      0.62        12\n",
            "          Green       1.00      0.94      0.97        18\n",
            "Take-to-recycle       0.93      0.93      0.93        15\n",
            "\n",
            "       accuracy                           0.77        64\n",
            "      macro avg       0.77      0.78      0.76        64\n",
            "   weighted avg       0.79      0.77      0.76        64\n",
            "\n"
          ]
        }
      ]
    },
    {
      "cell_type": "code",
      "source": [
        "plot_confusion_matrix_with_default_options(Ypred, Ytest, class_names)\n"
      ],
      "metadata": {
        "colab": {
          "base_uri": "https://localhost:8080/",
          "height": 887
        },
        "id": "pUXDldNk5eRi",
        "outputId": "a155baad-8960-4e20-f739-3f1cb752d828"
      },
      "execution_count": 18,
      "outputs": [
        {
          "output_type": "stream",
          "name": "stdout",
          "text": [
            "Confusion matrix, without normalization\n"
          ]
        },
        {
          "output_type": "display_data",
          "data": {
            "text/plain": [
              "<Figure size 864x864 with 2 Axes>"
            ],
            "image/png": "[encoded data removed]"
          },
          "metadata": {}
        }
      ]
    },
    {
      "cell_type": "code",
      "source": [
        ""
      ],
      "metadata": {
        "id": "QADl1Nbf5ibJ"
      },
      "execution_count": null,
      "outputs": []
    }
  ]
}